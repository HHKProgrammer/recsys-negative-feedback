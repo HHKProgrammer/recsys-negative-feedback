{
 "cells": [
  {
   "cell_type": "code",
   "execution_count": 3,
   "id": "d128d6c1",
   "metadata": {},
   "outputs": [
    {
     "name": "stdout",
     "output_type": "stream",
     "text": [
      "baseDir: /mnt/c/Users/Helin/OneDrive/Dokumente/BachelorThesis/code/srcCode/recsys-negative-feedback\n",
      "rawDir: /mnt/c/Users/Helin/OneDrive/Dokumente/BachelorThesis/code/srcCode/recsys-negative-feedback/data/raw/movielens\n",
      "procDir: /mnt/c/Users/Helin/OneDrive/Dokumente/BachelorThesis/code/srcCode/recsys-negative-feedback/data/processed/movielens\n"
     ]
    }
   ],
   "source": [
    "from pathlib import Path\n",
    "import os, json, pandas as pd, numpy as np\n",
    "\n",
    "baseDir = Path(\"/mnt/c/Users/Helin/OneDrive/Dokumente/BachelorThesis/code/srcCode/recsys-negative-feedback\")\n",
    "\n",
    "rawDir = baseDir / \"data\" / \"raw\" / \"movielens\"\n",
    "procDir = baseDir / \"data\" / \"processed\" / \"movielens\"\n",
    "procDir.mkdir(parents=True, exist_ok=True)\n",
    "\n",
    "print(\"baseDir:\", baseDir)\n",
    "print(\"rawDir:\", rawDir)\n",
    "print(\"procDir:\", procDir)\n"
   ]
  },
  {
   "cell_type": "markdown",
   "id": "d634491a-4552-4822-84b9-709c45f42897",
   "metadata": {},
   "source": [
    "#1\n",
    "We ensure reproducibility by fixing a stable project root (baseDir) and storing cleaned data to a canonical processed/ folder. This guarantees that model training always uses the same inputs regardless of editor working directory (e.g. VS Code / Jupyter)."
   ]
  },
  {
   "cell_type": "code",
   "execution_count": 4,
   "id": "7f7f442c-4b77-48ef-babb-25253d9a2b7d",
   "metadata": {},
   "outputs": [
    {
     "data": {
      "text/html": [
       "<div>\n",
       "<style scoped>\n",
       "    .dataframe tbody tr th:only-of-type {\n",
       "        vertical-align: middle;\n",
       "    }\n",
       "\n",
       "    .dataframe tbody tr th {\n",
       "        vertical-align: top;\n",
       "    }\n",
       "\n",
       "    .dataframe thead th {\n",
       "        text-align: right;\n",
       "    }\n",
       "</style>\n",
       "<table border=\"1\" class=\"dataframe\">\n",
       "  <thead>\n",
       "    <tr style=\"text-align: right;\">\n",
       "      <th></th>\n",
       "      <th>origUserId</th>\n",
       "      <th>origItemId</th>\n",
       "      <th>rating</th>\n",
       "      <th>timestamp</th>\n",
       "    </tr>\n",
       "  </thead>\n",
       "  <tbody>\n",
       "    <tr>\n",
       "      <th>0</th>\n",
       "      <td>196</td>\n",
       "      <td>242</td>\n",
       "      <td>3</td>\n",
       "      <td>881250949</td>\n",
       "    </tr>\n",
       "    <tr>\n",
       "      <th>1</th>\n",
       "      <td>186</td>\n",
       "      <td>302</td>\n",
       "      <td>3</td>\n",
       "      <td>891717742</td>\n",
       "    </tr>\n",
       "    <tr>\n",
       "      <th>2</th>\n",
       "      <td>22</td>\n",
       "      <td>377</td>\n",
       "      <td>1</td>\n",
       "      <td>878887116</td>\n",
       "    </tr>\n",
       "    <tr>\n",
       "      <th>3</th>\n",
       "      <td>244</td>\n",
       "      <td>51</td>\n",
       "      <td>2</td>\n",
       "      <td>880606923</td>\n",
       "    </tr>\n",
       "    <tr>\n",
       "      <th>4</th>\n",
       "      <td>166</td>\n",
       "      <td>346</td>\n",
       "      <td>1</td>\n",
       "      <td>886397596</td>\n",
       "    </tr>\n",
       "  </tbody>\n",
       "</table>\n",
       "</div>"
      ],
      "text/plain": [
       "   origUserId  origItemId  rating  timestamp\n",
       "0         196         242       3  881250949\n",
       "1         186         302       3  891717742\n",
       "2          22         377       1  878887116\n",
       "3         244          51       2  880606923\n",
       "4         166         346       1  886397596"
      ]
     },
     "execution_count": 4,
     "metadata": {},
     "output_type": "execute_result"
    }
   ],
   "source": [
    "ratingsPath = rawDir / \"u.data\"\n",
    "df = pd.read_csv(\n",
    "    ratingsPath,\n",
    "    sep=\"\\t\",\n",
    "    header=None,\n",
    "    names=[\"origUserId\",\"origItemId\",\"rating\",\"timestamp\"]\n",
    ")\n",
    "df.head()\n",
    "\n"
   ]
  },
  {
   "cell_type": "markdown",
   "id": "f3bc2f24-422b-47d4-8cfd-b4e5f32b8220",
   "metadata": {},
   "source": [
    "#2\n",
    "origUserId: the original MovieLens user ID (like “user #196” in their system)\n",
    "\n",
    "origItemId: the original MovieLens movie ID (like “movie #242”)\n",
    "\n",
    "rating: what they thought (1–5 stars)\n",
    "Ratings 4–5 = “I like this, please recommend similar.”\n",
    "\n",
    "Ratings 1–2 = “I dislike this, please don’t recommend similar.”\n",
    "\n",
    "timestamp: when it happened (UNIX seconds)"
   ]
  },
  {
   "cell_type": "markdown",
   "id": "f23031ec-0bf0-4f7d-8ac2-bc28776f67ea",
   "metadata": {},
   "source": [
    "#3\n",
    "event = a user did something with an item at a time like User 22 watched Movie 377 and gave rating 1 at timestamp 878887116 evrey row is an event \n",
    "\n",
    "keep only users with at least 5 ratings and  items with at least 5 ratings\n",
    "\n",
    "<5 is too weak to learn preference \n"
   ]
  },
  {
   "cell_type": "code",
   "execution_count": 5,
   "id": "aec4e0d4-1572-4260-8d5a-77d508c4010a",
   "metadata": {},
   "outputs": [
    {
     "name": "stdout",
     "output_type": "stream",
     "text": [
      "After filtering:\n",
      "  users  : 943\n",
      "  items  : 1349\n",
      "  events : 99287\n"
     ]
    },
    {
     "data": {
      "text/html": [
       "<div>\n",
       "<style scoped>\n",
       "    .dataframe tbody tr th:only-of-type {\n",
       "        vertical-align: middle;\n",
       "    }\n",
       "\n",
       "    .dataframe tbody tr th {\n",
       "        vertical-align: top;\n",
       "    }\n",
       "\n",
       "    .dataframe thead th {\n",
       "        text-align: right;\n",
       "    }\n",
       "</style>\n",
       "<table border=\"1\" class=\"dataframe\">\n",
       "  <thead>\n",
       "    <tr style=\"text-align: right;\">\n",
       "      <th></th>\n",
       "      <th>origUserId</th>\n",
       "      <th>origItemId</th>\n",
       "      <th>rating</th>\n",
       "      <th>timestamp</th>\n",
       "    </tr>\n",
       "  </thead>\n",
       "  <tbody>\n",
       "    <tr>\n",
       "      <th>0</th>\n",
       "      <td>196</td>\n",
       "      <td>242</td>\n",
       "      <td>3</td>\n",
       "      <td>881250949</td>\n",
       "    </tr>\n",
       "    <tr>\n",
       "      <th>1</th>\n",
       "      <td>186</td>\n",
       "      <td>302</td>\n",
       "      <td>3</td>\n",
       "      <td>891717742</td>\n",
       "    </tr>\n",
       "    <tr>\n",
       "      <th>2</th>\n",
       "      <td>22</td>\n",
       "      <td>377</td>\n",
       "      <td>1</td>\n",
       "      <td>878887116</td>\n",
       "    </tr>\n",
       "    <tr>\n",
       "      <th>3</th>\n",
       "      <td>244</td>\n",
       "      <td>51</td>\n",
       "      <td>2</td>\n",
       "      <td>880606923</td>\n",
       "    </tr>\n",
       "    <tr>\n",
       "      <th>4</th>\n",
       "      <td>166</td>\n",
       "      <td>346</td>\n",
       "      <td>1</td>\n",
       "      <td>886397596</td>\n",
       "    </tr>\n",
       "  </tbody>\n",
       "</table>\n",
       "</div>"
      ],
      "text/plain": [
       "   origUserId  origItemId  rating  timestamp\n",
       "0         196         242       3  881250949\n",
       "1         186         302       3  891717742\n",
       "2          22         377       1  878887116\n",
       "3         244          51       2  880606923\n",
       "4         166         346       1  886397596"
      ]
     },
     "execution_count": 5,
     "metadata": {},
     "output_type": "execute_result"
    }
   ],
   "source": [
    "# tresholds\n",
    "minUserEvents, minItemEvents = 5, 5\n",
    "\n",
    "# count  each users ratings each movies ratings\n",
    "userCounts = df[\"origUserId\"].value_counts()\n",
    "itemCounts = df[\"origItemId\"].value_counts()\n",
    "\n",
    "#getting rid of weak  items and users\n",
    "df = df[df[\"origUserId\"].isin(userCounts[userCounts >= minUserEvents].index)]\n",
    "df = df[df[\"origItemId\"].isin(itemCounts[itemCounts >= minItemEvents].index)]\n",
    "\n",
    "print(\"After filtering:\")\n",
    "print(\"  users  :\", df[\"origUserId\"].nunique())\n",
    "print(\"  items  :\", df[\"origItemId\"].nunique())\n",
    "print(\"  events :\", len(df))\n",
    "#first 5 rows\n",
    "df.head()\n"
   ]
  },
  {
   "cell_type": "markdown",
   "id": "19d47bdd-bf39-4fa9-ab42-b8013c3fe1d4",
   "metadata": {},
   "source": [
    "\n",
    "Data cleaning/filtering Beforehand\n",
    "Thought PRocess:\n",
    "user who only rated 1 movie ever. You can't learn their taste. There's no pattern.\n",
    "\n",
    "A movie that only one person ever rated. You can't generalize it to others.\n",
    "\n",
    "If you include extremely cold users/items, negative feedback looks random noise (“I hated this one obscure movie I watched once”). After filtering, negative signals become meaningful (“I systematically don’t like action movies”).\n",
    "\n",
    " filtering = denoising.\n"
   ]
  },
  {
   "cell_type": "code",
   "execution_count": 5,
   "id": "daa995e0-622d-43b4-801d-886db8502224",
   "metadata": {},
   "outputs": [
    {
     "name": "stdout",
     "output_type": "stream",
     "text": [
      "After remapping:\n",
      "  df shape: (99287, 4)\n",
      "  unique users: 943\n",
      "  unique items: 1349\n"
     ]
    },
    {
     "data": {
      "text/html": [
       "<div>\n",
       "<style scoped>\n",
       "    .dataframe tbody tr th:only-of-type {\n",
       "        vertical-align: middle;\n",
       "    }\n",
       "\n",
       "    .dataframe tbody tr th {\n",
       "        vertical-align: top;\n",
       "    }\n",
       "\n",
       "    .dataframe thead th {\n",
       "        text-align: right;\n",
       "    }\n",
       "</style>\n",
       "<table border=\"1\" class=\"dataframe\">\n",
       "  <thead>\n",
       "    <tr style=\"text-align: right;\">\n",
       "      <th></th>\n",
       "      <th>userId</th>\n",
       "      <th>itemId</th>\n",
       "      <th>rating</th>\n",
       "      <th>timestamp</th>\n",
       "    </tr>\n",
       "  </thead>\n",
       "  <tbody>\n",
       "    <tr>\n",
       "      <th>0</th>\n",
       "      <td>0</td>\n",
       "      <td>166</td>\n",
       "      <td>5</td>\n",
       "      <td>874965478</td>\n",
       "    </tr>\n",
       "    <tr>\n",
       "      <th>1</th>\n",
       "      <td>0</td>\n",
       "      <td>170</td>\n",
       "      <td>5</td>\n",
       "      <td>874965478</td>\n",
       "    </tr>\n",
       "    <tr>\n",
       "      <th>2</th>\n",
       "      <td>0</td>\n",
       "      <td>163</td>\n",
       "      <td>5</td>\n",
       "      <td>874965518</td>\n",
       "    </tr>\n",
       "    <tr>\n",
       "      <th>3</th>\n",
       "      <td>0</td>\n",
       "      <td>154</td>\n",
       "      <td>4</td>\n",
       "      <td>874965556</td>\n",
       "    </tr>\n",
       "    <tr>\n",
       "      <th>4</th>\n",
       "      <td>0</td>\n",
       "      <td>194</td>\n",
       "      <td>5</td>\n",
       "      <td>874965677</td>\n",
       "    </tr>\n",
       "  </tbody>\n",
       "</table>\n",
       "</div>"
      ],
      "text/plain": [
       "   userId  itemId  rating  timestamp\n",
       "0       0     166       5  874965478\n",
       "1       0     170       5  874965478\n",
       "2       0     163       5  874965518\n",
       "3       0     154       4  874965556\n",
       "4       0     194       5  874965677"
      ]
     },
     "execution_count": 5,
     "metadata": {},
     "output_type": "execute_result"
    }
   ],
   "source": [
    "# new ids for users and items starting from 0\n",
    "userMap = {u: i for i, u in enumerate(sorted(df[\"origUserId\"].unique()))}\n",
    "itemMap = {m: i for i, m in enumerate(sorted(df[\"origItemId\"].unique()))}\n",
    "\n",
    "df[\"userId\"] = df[\"origUserId\"].map(userMap)\n",
    "df[\"itemId\"] = df[\"origItemId\"].map(itemMap)\n",
    "\n",
    "# taking only columns we actually need \n",
    "df = df[[\"userId\", \"itemId\", \"rating\", \"timestamp\"]]\n",
    "\n",
    "# sort each users events in time order\n",
    "df = df.sort_values([\"userId\", \"timestamp\"]).reset_index(drop=True)\n",
    "\n",
    "print(\"After remapping:\")\n",
    "print(\"  df shape:\", df.shape)\n",
    "print(\"  unique users:\", df[\"userId\"].nunique())\n",
    "print(\"  unique items:\", df[\"itemId\"].nunique())\n",
    "df.head()\n"
   ]
  },
  {
   "cell_type": "markdown",
   "id": "dfcb81d4-8665-4ae2-8197-dd4237f6d6b9",
   "metadata": {},
   "source": [
    "Recommender models don’t like scattered IDs like 196, 244, 927.\n",
    "They want dense row indices: 0,1,2,3,…\n",
    "Same for items.\n",
    "This is how we’ll later build a user-item matrix or embeddings.\n",
    "sort by timestamp per user.\n",
    "TO “train on past, predict the future” split.\n",
    "Given what you’ve watched so far, would I have guessed your next choice?"
   ]
  },
  {
   "cell_type": "code",
   "execution_count": 6,
   "id": "9a7c3310-44fb-4c6d-94aa-8019792845d5",
   "metadata": {},
   "outputs": [
    {
     "name": "stdout",
     "output_type": "stream",
     "text": [
      "train/test shapes:\n",
      "  train: (98344, 4)\n",
      "  test : (943, 4)\n",
      "users in train: 943\n",
      "users in test : 943\n"
     ]
    }
   ],
   "source": [
    "def userWiseLastSplit(frame):\n",
    "    # last interaction per user pretend its in the future testing\n",
    "    lastIdx = frame.groupby(\"userId\").tail(1).index\n",
    "    test = frame.loc[lastIdx]\n",
    "    train = frame.drop(lastIdx)\n",
    "    return train, test\n",
    "\n",
    "trainDf, testDf = userWiseLastSplit(df)\n",
    "\n",
    "print(\"train/test shapes:\")\n",
    "print(\"  train:\", trainDf.shape)\n",
    "print(\"  test :\", testDf.shape)\n",
    "\n",
    "# each user should appear in train AND in test 1 row eACh user\n",
    "print(\"users in train:\", trainDf[\"userId\"].nunique())\n",
    "print(\"users in test :\", testDf[\"userId\"].nunique())\n"
   ]
  },
  {
   "cell_type": "markdown",
   "id": "10fae0b3-d694-4bce-a274-f3e42cef18f8",
   "metadata": {},
   "source": [
    "Evaluate recommenders by hiding each user's most recent interaction as test and training on their history, and asking the model to recover that heldout item. This simulates predicting the user's next choice based only on what the system would have known at that time."
   ]
  },
  {
   "cell_type": "code",
   "execution_count": 7,
   "id": "237bd51a-a03c-48c9-a22b-594bb3290f8c",
   "metadata": {},
   "outputs": [
    {
     "name": "stdout",
     "output_type": "stream",
     "text": [
      "Saved:\n",
      "  /mnt/c/Users/Helin/OneDrive/Dokumente/BachelorThesis/code/srcCode/recsys-negative-feedback/data/processed/movielens/train.parquet\n",
      "  /mnt/c/Users/Helin/OneDrive/Dokumente/BachelorThesis/code/srcCode/recsys-negative-feedback/data/processed/movielens/test.parquet\n"
     ]
    }
   ],
   "source": [
    "procDir.mkdir(parents=True, exist_ok=True)\n",
    "\n",
    "trainPath = procDir / \"train.parquet\"\n",
    "testPath = procDir / \"test.parquet\"\n",
    "\n",
    "trainDf.to_parquet(trainPath, index=False)\n",
    "testDf.to_parquet(testPath, index=False)\n",
    "\n",
    "print(\"Saved:\")\n",
    "print(\" \", trainPath)\n",
    "print(\" \", testPath)\n"
   ]
  },
  {
   "cell_type": "markdown",
   "id": "3830613f-c964-4a10-9c22-878edf7a385e",
   "metadata": {},
   "source": [
    "parquet faster and cleaner than csv , can reload this and train models without redoing all the preprocessing again"
   ]
  }
 ],
 "metadata": {
  "kernelspec": {
   "display_name": "Python 3 (ipykernel)",
   "language": "python",
   "name": "python3"
  },
  "language_info": {
   "codemirror_mode": {
    "name": "ipython",
    "version": 3
   },
   "file_extension": ".py",
   "mimetype": "text/x-python",
   "name": "python",
   "nbconvert_exporter": "python",
   "pygments_lexer": "ipython3",
   "version": "3.10.16"
  }
 },
 "nbformat": 4,
 "nbformat_minor": 5
}
